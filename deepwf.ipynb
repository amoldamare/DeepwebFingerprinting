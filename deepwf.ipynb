{
 "cells": [
  {
   "cell_type": "code",
   "execution_count": 1,
   "metadata": {},
   "outputs": [],
   "source": [
    "import numpy as np"
   ]
  },
  {
   "cell_type": "code",
   "execution_count": 2,
   "metadata": {},
   "outputs": [],
   "source": [
    "npzdata=np.load(\"data.npz\")"
   ]
  },
  {
   "cell_type": "code",
   "execution_count": 3,
   "metadata": {},
   "outputs": [
    {
     "data": {
      "text/plain": [
       "<numpy.lib.npyio.NpzFile at 0x7fb0a84894d0>"
      ]
     },
     "execution_count": 3,
     "metadata": {},
     "output_type": "execute_result"
    }
   ],
   "source": [
    "npzdata"
   ]
  },
  {
   "cell_type": "code",
   "execution_count": 4,
   "metadata": {},
   "outputs": [],
   "source": [
    "data=npzdata['data']\n",
    "labels=npzdata['labels']"
   ]
  },
  {
   "cell_type": "code",
   "execution_count": 5,
   "metadata": {},
   "outputs": [
    {
     "data": {
      "text/plain": [
       "array([[ 1,  1, -1, ..., -1, -1, -1],\n",
       "       [ 1,  1, -1, ..., -1, -1, -1],\n",
       "       [ 1,  1, -1, ..., -1, -1, -1],\n",
       "       ...,\n",
       "       [ 0,  0,  0, ...,  0,  0,  0],\n",
       "       [ 0,  0,  0, ...,  0,  0,  0],\n",
       "       [ 0,  0,  0, ...,  0,  0,  0]], dtype=int16)"
      ]
     },
     "execution_count": 5,
     "metadata": {},
     "output_type": "execute_result"
    }
   ],
   "source": [
    "data"
   ]
  },
  {
   "cell_type": "code",
   "execution_count": 6,
   "metadata": {},
   "outputs": [
    {
     "data": {
      "text/plain": [
       "array([u'9gag.com', u'9gag.com', u'9gag.com', ..., None, None, None],\n",
       "      dtype=object)"
      ]
     },
     "execution_count": 6,
     "metadata": {},
     "output_type": "execute_result"
    }
   ],
   "source": [
    "labels"
   ]
  },
  {
   "cell_type": "code",
   "execution_count": 7,
   "metadata": {},
   "outputs": [
    {
     "data": {
      "text/plain": [
       "(249996, 5000)"
      ]
     },
     "execution_count": 7,
     "metadata": {},
     "output_type": "execute_result"
    }
   ],
   "source": [
    "data.shape"
   ]
  },
  {
   "cell_type": "code",
   "execution_count": 8,
   "metadata": {},
   "outputs": [
    {
     "name": "stderr",
     "output_type": "stream",
     "text": [
      "Using TensorFlow backend.\n"
     ]
    }
   ],
   "source": [
    "import keras.preprocessing.sequence as sq"
   ]
  },
  {
   "cell_type": "code",
   "execution_count": 9,
   "metadata": {},
   "outputs": [],
   "source": [
    "maxlen=150"
   ]
  },
  {
   "cell_type": "code",
   "execution_count": 11,
   "metadata": {},
   "outputs": [],
   "source": [
    "data=sq.pad_sequences(data,maxlen=maxlen,padding='post',truncating='post',dtype='float64')"
   ]
  },
  {
   "cell_type": "code",
   "execution_count": 12,
   "metadata": {},
   "outputs": [],
   "source": [
    "data=data.reshape(data.shape[0],data.shape[1],1)"
   ]
  },
  {
   "cell_type": "code",
   "execution_count": 14,
   "metadata": {},
   "outputs": [],
   "source": [
    "from keras.utils import np_utils"
   ]
  },
  {
   "cell_type": "code",
   "execution_count": 17,
   "metadata": {},
   "outputs": [],
   "source": [
    "dict_label={}"
   ]
  },
  {
   "cell_type": "code",
   "execution_count": 18,
   "metadata": {},
   "outputs": [],
   "source": [
    "n=0"
   ]
  },
  {
   "cell_type": "code",
   "execution_count": 19,
   "metadata": {},
   "outputs": [],
   "source": [
    "set_labels=list(set(labels))"
   ]
  },
  {
   "cell_type": "code",
   "execution_count": 20,
   "metadata": {},
   "outputs": [],
   "source": [
    "for l in set_labels:\n",
    "    dict_label[l]=n\n",
    "    n+=1"
   ]
  },
  {
   "cell_type": "code",
   "execution_count": 21,
   "metadata": {},
   "outputs": [
    {
     "data": {
      "text/plain": [
       "{None: 68,\n",
       " u'9gag.com': 77,\n",
       " u'abs-cbn.com': 99,\n",
       " u'adf.ly': 70,\n",
       " u'adobe.com': 39,\n",
       " u'aliexpress.com': 22,\n",
       " u'allegro.pl': 83,\n",
       " u'amazon.com': 49,\n",
       " u'amazonaws.com': 61,\n",
       " u'aol.com': 72,\n",
       " u'apple.com': 69,\n",
       " u'archive.org': 9,\n",
       " u'askcom.me': 71,\n",
       " u'battle.net': 96,\n",
       " u'blastingnews.com': 7,\n",
       " u'booking.com': 56,\n",
       " u'breitbart.com': 76,\n",
       " u'bukalapak.com': 21,\n",
       " u'businessinsider.com': 47,\n",
       " u'conservativetribune.com': 55,\n",
       " u'dailymail.co.uk': 60,\n",
       " u'dailymotion.com': 29,\n",
       " u'detik.com': 58,\n",
       " u'deviantart.com': 82,\n",
       " u'dictionary.com': 27,\n",
       " u'digikala.com': 35,\n",
       " u'doubleclick.net': 25,\n",
       " u'doublepimp.com': 89,\n",
       " u'ebay.com': 48,\n",
       " u'espncricinfo.com': 5,\n",
       " u'exoclick.com': 54,\n",
       " u'extratorrent.cc': 63,\n",
       " u'facebook.com': 88,\n",
       " u'feedly.com': 32,\n",
       " u'gamepedia.com': 95,\n",
       " u'github.com': 15,\n",
       " u'go.com': 94,\n",
       " u'godaddy.com': 93,\n",
       " u'goodreads.com': 81,\n",
       " u'google.com': 98,\n",
       " u'hclips.com': 28,\n",
       " u'hola.com': 24,\n",
       " u'hotmovs.com': 78,\n",
       " u'imdb.com': 97,\n",
       " u'instructure.com': 80,\n",
       " u'intuit.com': 37,\n",
       " u'kompas.com': 6,\n",
       " u'leboncoin.fr': 38,\n",
       " u'liputan6.com': 86,\n",
       " u'livejasmin.com': 53,\n",
       " u'livejournal.com': 91,\n",
       " u'ltn.com.tw': 14,\n",
       " u'microsoftonline.com': 57,\n",
       " u'mozilla.org': 33,\n",
       " u'msn.com': 44,\n",
       " u'naver.com': 16,\n",
       " u'netflix.com': 12,\n",
       " u'nicovideo.jp': 50,\n",
       " u'nih.gov': 85,\n",
       " u'ntd.tv': 90,\n",
       " u'office.com': 18,\n",
       " u'onedio.com': 34,\n",
       " u'openload.co': 46,\n",
       " u'oracle.com': 11,\n",
       " u'ouo.io': 19,\n",
       " u'outbrain.com': 75,\n",
       " u'pinterest.com': 36,\n",
       " u'popads.net': 17,\n",
       " u'quora.com': 0,\n",
       " u'researchgate.net': 92,\n",
       " u'roblox.com': 100,\n",
       " u'rt.com': 59,\n",
       " u'rutracker.org': 13,\n",
       " u'scribd.com': 87,\n",
       " u'skype.com': 20,\n",
       " u'soundcloud.com': 66,\n",
       " u'sourceforge.net': 65,\n",
       " u'spotify.com': 31,\n",
       " u'spotscenered.info': 84,\n",
       " u'stackexchange.com': 1,\n",
       " u'stackoverflow.com': 67,\n",
       " u'steamcommunity.com': 8,\n",
       " u'steampowered.com': 64,\n",
       " u't.co': 10,\n",
       " u'theguardian.com': 30,\n",
       " u'thesaurus.com': 74,\n",
       " u'tistory.com': 23,\n",
       " u'tokopedia.com': 62,\n",
       " u'torrentz2.eu': 45,\n",
       " u'tribunnews.com': 79,\n",
       " u'tumblr.com': 73,\n",
       " u'twitter.com': 41,\n",
       " u'weather.com': 52,\n",
       " u'wikia.com': 3,\n",
       " u'wikipedia.org': 2,\n",
       " u'wittyfeed.com': 42,\n",
       " u'xhamster.com': 40,\n",
       " u'xvideos.com': 51,\n",
       " u'yandex.ru': 4,\n",
       " u'yelp.com': 43,\n",
       " u'zippyshare.com': 26}"
      ]
     },
     "execution_count": 21,
     "metadata": {},
     "output_type": "execute_result"
    }
   ],
   "source": [
    "dict_label"
   ]
  },
  {
   "cell_type": "code",
   "execution_count": 22,
   "metadata": {},
   "outputs": [],
   "source": [
    "labels_new=[]"
   ]
  },
  {
   "cell_type": "code",
   "execution_count": 23,
   "metadata": {},
   "outputs": [],
   "source": [
    "for l in labels:\n",
    "    labels_new.append(dict_label[l])"
   ]
  },
  {
   "cell_type": "code",
   "execution_count": 24,
   "metadata": {},
   "outputs": [],
   "source": [
    "label_1=np_utils.to_categorical(labels_new)"
   ]
  },
  {
   "cell_type": "code",
   "execution_count": 25,
   "metadata": {},
   "outputs": [
    {
     "data": {
      "text/plain": [
       "array([[0., 0., 0., ..., 0., 0., 0.],\n",
       "       [0., 0., 0., ..., 0., 0., 0.],\n",
       "       [0., 0., 0., ..., 0., 0., 0.],\n",
       "       ...,\n",
       "       [0., 0., 0., ..., 0., 0., 0.],\n",
       "       [0., 0., 0., ..., 0., 0., 0.],\n",
       "       [0., 0., 0., ..., 0., 0., 0.]], dtype=float32)"
      ]
     },
     "execution_count": 25,
     "metadata": {},
     "output_type": "execute_result"
    }
   ],
   "source": [
    "label_1"
   ]
  },
  {
   "cell_type": "code",
   "execution_count": 27,
   "metadata": {},
   "outputs": [],
   "source": [
    "def generateData(data,labels,batch_size=32):\n",
    "    nb_instances = data.shape[0]\n",
    "    nb_classes = labels.shape[1]\n",
    "    sample_shape = data[0].shape\n",
    "    batch_data_shape = tuple([batch_size] + list(sample_shape))\n",
    "    batch_label_shape = (batch_size, nb_classes)\n",
    "    # Infinite loop\n",
    "    while True:\n",
    "        # Generate an exploration order\n",
    "        indices = np.arange(nb_instances)\n",
    "\n",
    "        np.random.shuffle(indices)\n",
    "\n",
    "        # Generate batches\n",
    "        imax = int(len(indices) / batch_size)\n",
    "        for i in range(imax):\n",
    "            # Form a batch\n",
    "            x = np.empty(batch_data_shape)\n",
    "            y = np.empty(batch_label_shape)\n",
    "            for j, k in enumerate(indices[i * batch_size: (i + 1) * batch_size]):\n",
    "                x[j] = data[k]\n",
    "                y[j] = labels[k]\n",
    "            if x.shape != batch_data_shape:\n",
    "                print(x.shape)\n",
    "                exit(0)\n",
    "            yield x, y"
   ]
  },
  {
   "cell_type": "code",
   "execution_count": null,
   "metadata": {},
   "outputs": [],
   "source": []
  }
 ],
 "metadata": {
  "kernelspec": {
   "display_name": "Python 2",
   "language": "python",
   "name": "python2"
  },
  "language_info": {
   "codemirror_mode": {
    "name": "ipython",
    "version": 2
   },
   "file_extension": ".py",
   "mimetype": "text/x-python",
   "name": "python",
   "nbconvert_exporter": "python",
   "pygments_lexer": "ipython2",
   "version": "2.7.15rc1"
  }
 },
 "nbformat": 4,
 "nbformat_minor": 2
}
